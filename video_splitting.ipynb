{
 "cells": [
  {
   "cell_type": "code",
   "execution_count": 1,
   "metadata": {},
   "outputs": [
    {
     "name": "stderr",
     "output_type": "stream",
     "text": [
      "2024-05-23 15:41:01.865174: I tensorflow/core/platform/cpu_feature_guard.cc:210] This TensorFlow binary is optimized to use available CPU instructions in performance-critical operations.\n",
      "To enable the following instructions: AVX2 FMA, in other operations, rebuild TensorFlow with the appropriate compiler flags.\n",
      "2024-05-23 15:41:03.160501: W tensorflow/compiler/tf2tensorrt/utils/py_utils.cc:38] TF-TRT Warning: Could not find TensorRT\n"
     ]
    }
   ],
   "source": [
    "import cv2\n",
    "import numpy as np\n",
    "from sklearn.cluster import KMeans\n",
    "from sklearn.decomposition import PCA\n",
    "from keras.applications.vgg16 import VGG16 \n",
    "from keras.applications.vgg16 import preprocess_input\n",
    "import os;"
   ]
  },
  {
   "cell_type": "code",
   "execution_count": 2,
   "metadata": {},
   "outputs": [],
   "source": [
    "# Function to extract features from a batch of frames\n",
    "def extract_features_batch(frames, model):\n",
    "    # Resize frames and stack them into a single array\n",
    "    resized_frames = [cv2.resize(frame, (224, 224)) for frame in frames]\n",
    "    batch_array = np.array(resized_frames)\n",
    "    \n",
    "    # Preprocess the batch\n",
    "    batch_array = preprocess_input(batch_array)\n",
    "    \n",
    "    # Extract features using the model\n",
    "    features = model.predict(batch_array)\n",
    "    \n",
    "    # Flatten the features for each frame\n",
    "    flattened_features = features.reshape(features.shape[0], -1)\n",
    "    \n",
    "    return flattened_features"
   ]
  },
  {
   "cell_type": "code",
   "execution_count": 3,
   "metadata": {},
   "outputs": [],
   "source": [
    "# Load pre-trained VGG16 model\n",
    "model = VGG16(weights = 'imagenet', include_top = False)\n",
    "\n",
    "# Initialize KMeans clustering\n",
    "kmeans = KMeans(n_clusters = 2, random_state = 42)"
   ]
  },
  {
   "cell_type": "code",
   "execution_count": 4,
   "metadata": {},
   "outputs": [],
   "source": [
    "# Read the video\n",
    "video_path = \"video.mp4\"\n",
    "cap = cv2.VideoCapture(video_path)"
   ]
  },
  {
   "cell_type": "code",
   "execution_count": 5,
   "metadata": {},
   "outputs": [],
   "source": [
    "frames = []\n",
    "frame_indices = []\n",
    "while cap.isOpened():\n",
    "    ret, frame = cap.read()\n",
    "    if not ret:\n",
    "        break\n",
    "    frames.append(frame)\n",
    "    frame_indices.append(int(cap.get(cv2.CAP_PROP_POS_FRAMES)))\n",
    "\n",
    "# frames"
   ]
  },
  {
   "cell_type": "code",
   "execution_count": 6,
   "metadata": {},
   "outputs": [
    {
     "name": "stdout",
     "output_type": "stream",
     "text": [
      "\u001b[1m1/1\u001b[0m \u001b[32m━━━━━━━━━━━━━━━━━━━━\u001b[0m\u001b[37m\u001b[0m \u001b[1m4s\u001b[0m 4s/step\n",
      "\u001b[1m1/1\u001b[0m \u001b[32m━━━━━━━━━━━━━━━━━━━━\u001b[0m\u001b[37m\u001b[0m \u001b[1m4s\u001b[0m 4s/step\n",
      "\u001b[1m1/1\u001b[0m \u001b[32m━━━━━━━━━━━━━━━━━━━━\u001b[0m\u001b[37m\u001b[0m \u001b[1m4s\u001b[0m 4s/step\n",
      "\u001b[1m1/1\u001b[0m \u001b[32m━━━━━━━━━━━━━━━━━━━━\u001b[0m\u001b[37m\u001b[0m \u001b[1m5s\u001b[0m 5s/step\n",
      "\u001b[1m1/1\u001b[0m \u001b[32m━━━━━━━━━━━━━━━━━━━━\u001b[0m\u001b[37m\u001b[0m \u001b[1m5s\u001b[0m 5s/step\n"
     ]
    }
   ],
   "source": [
    "# Extract features from each frame\n",
    "batch_size = 32\n",
    "features = []\n",
    "# Process frames in batches\n",
    "for start in range(0, len(frames), batch_size):\n",
    "    end = min(start + batch_size, len(frames))\n",
    "    batch_frames = frames[start:end]\n",
    "    batch_features = extract_features_batch(batch_frames, model)\n",
    "    features.append(batch_features)\n",
    "\n",
    "# Convert list of features to a single numpy array\n",
    "features = np.vstack(features)"
   ]
  },
  {
   "cell_type": "code",
   "execution_count": null,
   "metadata": {},
   "outputs": [],
   "source": []
  },
  {
   "cell_type": "code",
   "execution_count": null,
   "metadata": {},
   "outputs": [
    {
     "ename": "",
     "evalue": "",
     "output_type": "error",
     "traceback": [
      "\u001b[1;31mThe Kernel crashed while executing code in the current cell or a previous cell. \n",
      "\u001b[1;31mPlease review the code in the cell(s) to identify a possible cause of the failure. \n",
      "\u001b[1;31mClick <a href='https://aka.ms/vscodeJupyterKernelCrash'>here</a> for more info. \n",
      "\u001b[1;31mView Jupyter <a href='command:jupyter.viewOutput'>log</a> for further details."
     ]
    }
   ],
   "source": [
    "# Reduce dimensionality using PCA\n",
    "pca = PCA(n_components = 100, random_state = 22)\n",
    "features_pca = pca.fit_transform(features)\n",
    "\n",
    "# Cluster the features\n",
    "kmeans.fit(features_pca)"
   ]
  },
  {
   "cell_type": "code",
   "execution_count": null,
   "metadata": {},
   "outputs": [],
   "source": [
    "# Group frames into scenes\n",
    "scenes = {}\n",
    "for i, label in enumerate(kmeans.labels_):\n",
    "    if label not in scenes:\n",
    "        scenes[label] = []\n",
    "    scenes[label].append(frame_indices[i])  # Use frame indices instead of index"
   ]
  },
  {
   "cell_type": "code",
   "execution_count": null,
   "metadata": {},
   "outputs": [],
   "source": [
    "# Create output directory\n",
    "output_dir = 'video_clips'\n",
    "os.makedirs(output_dir, exist_ok=True)\n",
    "\n",
    "# Save frames from each scene into separate video clips\n",
    "fps = cap.get(cv2.CAP_PROP_FPS)\n",
    "frame_width = int(cap.get(cv2.CAP_PROP_FRAME_WIDTH))\n",
    "frame_height = int(cap.get(cv2.CAP_PROP_FRAME_HEIGHT))"
   ]
  },
  {
   "cell_type": "code",
   "execution_count": null,
   "metadata": {},
   "outputs": [],
   "source": [
    "for scene_id in sorted(scenes.keys()):\n",
    "    print(f\"Saving Scene {scene_id + 1}...\")\n",
    "    output_path = os.path.join(output_dir, f'scene_{scene_id + 1}.mp4')\n",
    "    out = cv2.VideoWriter(output_path, cv2.VideoWriter_fourcc(*'mp4v'), fps, (frame_width, frame_height))\n",
    "\n",
    "    for index in scenes[scene_id]:\n",
    "        cap.set(cv2.CAP_PROP_POS_FRAMES, index - 1)  # Set the frame position\n",
    "        ret, frame = cap.read()\n",
    "        if not ret:\n",
    "            break\n",
    "        out.write(frame)\n",
    "\n",
    "    out.release()\n",
    "\n",
    "cap.release()\n",
    "print(\"Video clips saved successfully.\")"
   ]
  }
 ],
 "metadata": {
  "kernelspec": {
   "display_name": "Python 3",
   "language": "python",
   "name": "python3"
  },
  "language_info": {
   "codemirror_mode": {
    "name": "ipython",
    "version": 3
   },
   "file_extension": ".py",
   "mimetype": "text/x-python",
   "name": "python",
   "nbconvert_exporter": "python",
   "pygments_lexer": "ipython3",
   "version": "3.10.12"
  }
 },
 "nbformat": 4,
 "nbformat_minor": 2
}
